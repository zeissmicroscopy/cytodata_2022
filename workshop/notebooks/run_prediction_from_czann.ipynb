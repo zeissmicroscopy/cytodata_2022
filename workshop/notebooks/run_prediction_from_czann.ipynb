{
 "cells": [
  {
   "cell_type": "code",
   "execution_count": null,
   "metadata": {
    "colab": {
     "base_uri": "https://localhost:8080/"
    },
    "id": "PJ5ytvOx-eF1",
    "outputId": "c6a4d22a-9855-4864-c1a9-6d2ac00b947a"
   },
   "outputs": [],
   "source": [
    "# Install czmodel and dependencies\n",
    "\n",
    "! pip install --upgrade pip\n",
    "! pip install scikit-image xmltodict\n",
    "! pip install onnxruntime\n",
    "#! pip install cpuonly\n",
    "! pip install czmodel[pytorch]"
   ]
  },
  {
   "cell_type": "markdown",
   "metadata": {},
   "source": [
    "## Disclaimer\n",
    "\n",
    "This content of this repository is free to use for everybody. Carl Zeiss Microscopy GmbH's ZEN software undertakes no warranty concerning the use of those scripts, image analysis settings and ZEN experiments. Use them on your own risk.\n",
    "\n",
    "**By using any of those examples you agree to this disclaimer.**"
   ]
  },
  {
   "cell_type": "code",
   "execution_count": null,
   "metadata": {
    "id": "6ACuw3aI_lCD"
   },
   "outputs": [],
   "source": [
    "import os\n",
    "import numpy as np\n",
    "import matplotlib.pyplot as plt\n",
    "from IPython.display import clear_output\n",
    "from czmodel.pytorch.convert import DefaultConverter\n",
    "import tempfile\n",
    "import json\n",
    "from pathlib import Path\n",
    "import onnxruntime as onnx_rt\n",
    "from skimage.io import imread\n",
    "import random\n",
    "import sys"
   ]
  },
  {
   "cell_type": "code",
   "execution_count": null,
   "metadata": {
    "id": "-IgMB1Ya462j"
   },
   "outputs": [],
   "source": [
    "# Folder containing the input images\n",
    "IMAGES_FOLDER = \"nucleus_data/images/\"\n",
    "\n",
    "# Folder containing the ground truth regression labels\n",
    "# Regression labels contain a real number for each pixel\n",
    "MASKS_FOLDER = \"nucleus_data/labels/\"\n",
    "\n",
    "# Path to the data on GitHub\n",
    "GITHUB_IMAGES_PATH = \"https://raw.githubusercontent.com/zeissmicroscopy/cytodata_2022_workshop/main/workshop/notebooks/nucleus_data.zip\"\n",
    "\n",
    "# Path to the tools folder on Github\n",
    "modelname = \"cyto2022_nuc.czann\"\n",
    "CZANN_PATH = r\"https://raw.githubusercontent.com/zeissmicroscopy/cytodata_2022_workshop/main/workshop/notebooks/\" + modelname\n",
    "\n",
    "czann_filepath = os.path.join(os.getcwd(), modelname)"
   ]
  },
  {
   "cell_type": "markdown",
   "metadata": {
    "id": "5bJNvdRa462j"
   },
   "source": [
    "### Download data if it's not available on disk\n",
    "\n",
    "If this notebook is run e.g. as a colab notebook, it does not have access to the data folder on gitub via disk access. In that case we need to download the data from github first."
   ]
  },
  {
   "cell_type": "code",
   "execution_count": null,
   "metadata": {
    "id": "rJ4YfL21462k"
   },
   "outputs": [],
   "source": [
    "import requests\n",
    "\n",
    "# Download training data\n",
    "if not (os.path.isdir(IMAGES_FOLDER) and os.path.isdir(MASKS_FOLDER)):\n",
    "    compressed_data = './nucleus_data.zip'\n",
    "    if not os.path.isfile(compressed_data):\n",
    "        import io\n",
    "        response = requests.get(GITHUB_IMAGES_PATH, stream=True)\n",
    "        compressed_data = io.BytesIO(response.content)\n",
    "        \n",
    "    import zipfile\n",
    "    with zipfile.ZipFile(compressed_data, 'r') as zip_accessor:\n",
    "        zip_accessor.extractall('./')\n",
    "\n",
    "# Download czann file.py\n",
    "if not os.path.isfile('cyto2022_nuc.czann.py'):\n",
    "    response = requests.get(CZANN_PATH, stream=True)\n",
    "    with open('cyto2022_nuc.czann', 'wb') as handle:\n",
    "        handle.write(response.content)"
   ]
  },
  {
   "cell_type": "code",
   "execution_count": null,
   "metadata": {
    "id": "6aHMT9Sn462l"
   },
   "outputs": [],
   "source": [
    "# get the sample images\n",
    "sample_images = sorted([os.path.join(IMAGES_FOLDER, f) for f in os.listdir(IMAGES_FOLDER)\n",
    "                        if os.path.isfile(os.path.join(IMAGES_FOLDER, f))])\n",
    "\n",
    "# get the maks\n",
    "sample_masks = sorted([os.path.join(MASKS_FOLDER, f) for f in os.listdir(MASKS_FOLDER)\n",
    "                       if os.path.isfile(os.path.join(MASKS_FOLDER, f))])"
   ]
  },
  {
   "cell_type": "code",
   "execution_count": null,
   "metadata": {
    "id": "Lr4uRjfuFrjG"
   },
   "outputs": [],
   "source": [
    "def predict_one(sess: onnx_rt.InferenceSession, batch_elem: np.ndarray) -> np.ndarray:\n",
    "    \"\"\"Predicts with a batch size of 1 to not risk memory issues.\n",
    "\n",
    "    Arguments:\n",
    "        sess: The inference session containing the loaded model.\n",
    "        batch_elem: One element of a batch to be used for prediction.\n",
    "\n",
    "    Returns:\n",
    "        The prediction for the provided batch element.\n",
    "    \"\"\"\n",
    "    batch_elem = batch_elem[np.newaxis]\n",
    "    input_name = sess.get_inputs()[0].name\n",
    "    output_name = sess.get_outputs()[0].name\n",
    "\n",
    "    # ONNX can only handle float32\n",
    "    batch_elem = batch_elem.astype(np.float32)\n",
    "    input_dict = {input_name: batch_elem}\n",
    "    result = sess.run([output_name], input_dict)[0]\n",
    "\n",
    "    return result[0]"
   ]
  },
  {
   "cell_type": "code",
   "execution_count": null,
   "metadata": {
    "colab": {
     "base_uri": "https://localhost:8080/"
    },
    "id": "6Qhz6lsqATba",
    "outputId": "ae8e24b5-08dc-4588-bdf7-dd72a11127c0"
   },
   "outputs": [],
   "source": [
    "# extract the model information and path and to the prediction\n",
    "with tempfile.TemporaryDirectory() as temp_path:\n",
    "\n",
    "    # get the model metadata and the path\n",
    "    model_metadata, model_path = DefaultConverter().unpack_model(model_file=czann_filepath,\n",
    "                                                                 target_dir=Path(temp_path))\n",
    "\n",
    "    # get model metadata as dictionary\n",
    "    model_metadata_dict = model_metadata._asdict()\n",
    "    for k,v in model_metadata_dict.items():\n",
    "        print(k, \"=\", v)\n",
    "\n",
    "    # get the input shape\n",
    "    shp = model_metadata.input_shape\n",
    "\n",
    "    # create an ONNX session and get the input shape\n",
    "    # use either \"CUDAExecutionProvider\" or \"CPUExecutionProvider\"]\n",
    "    sess = onnx_rt.InferenceSession(str(model_path), providers=[\"CPUExecutionProvider\"])"
   ]
  },
  {
   "cell_type": "code",
   "execution_count": null,
   "metadata": {
    "colab": {
     "base_uri": "https://localhost:8080/",
     "height": 298
    },
    "id": "K3IFtkdlTKsT",
    "outputId": "efd6e8ba-8968-4f2e-956e-e1cacde3a4df"
   },
   "outputs": [],
   "source": [
    "# just re-execute the cell to display a different image\n",
    "from skimage.io import imread\n",
    "\n",
    "# select an a random image\n",
    "id = random.randint(0, len(sample_images))\n",
    "\n",
    "# read images and scale\n",
    "img = imread(sample_images[id])/(2**16 - 1)\n",
    "mask = imread(sample_masks[id])\n",
    "\n",
    "# cut input to fit the model\n",
    "img = img[0: shp[0], 0:shp[1]]\n",
    "mask = mask[0: shp[0], 0:shp[1]]\n",
    "\n",
    "# run the actual prediction\n",
    "pred = predict_one(sess, img[..., np.newaxis])\n",
    "\n",
    "fig, (ax1, ax2, ax3) = plt.subplots(1, 3)\n",
    "fig.set_figwidth(16)\n",
    "\n",
    "# show images and set titles\n",
    "ax1.imshow(img, vmin=0, vmax=0.05)\n",
    "ax2.imshow(pred[..., 1], cmap=\"gray\")\n",
    "ax3.imshow(mask)\n",
    "\n",
    "ax1.set_title('Image')\n",
    "ax2.set_title('Prediction')\n",
    "ax3.set_title('Label Mask')"
   ]
  },
  {
   "cell_type": "code",
   "execution_count": null,
   "metadata": {
    "id": "3bq31U37462n"
   },
   "outputs": [],
   "source": []
  }
 ],
 "metadata": {
  "accelerator": "GPU",
  "colab": {
   "collapsed_sections": [],
   "name": "run_prediction_from_czann.ipynb",
   "provenance": []
  },
  "kernelspec": {
   "display_name": "Python 3 (ipykernel)",
   "language": "python",
   "name": "python3"
  },
  "language_info": {
   "codemirror_mode": {
    "name": "ipython",
    "version": 3
   },
   "file_extension": ".py",
   "mimetype": "text/x-python",
   "name": "python",
   "nbconvert_exporter": "python",
   "pygments_lexer": "ipython3",
   "version": "3.10.8"
  },
  "vscode": {
   "interpreter": {
    "hash": "7019d285939b12df1a8a19088bce4b0ba11064da88178863e9101c39948d2ada"
   }
  }
 },
 "nbformat": 4,
 "nbformat_minor": 4
}
